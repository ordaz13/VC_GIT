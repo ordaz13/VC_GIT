{
 "cells": [
  {
   "cell_type": "code",
   "execution_count": 1,
   "metadata": {},
   "outputs": [
    {
     "name": "stderr",
     "output_type": "stream",
     "text": [
      "C:\\Users\\usuario\\Anaconda3\\lib\\site-packages\\h5py\\__init__.py:36: FutureWarning: Conversion of the second argument of issubdtype from `float` to `np.floating` is deprecated. In future, it will be treated as `np.float64 == np.dtype(float).type`.\n",
      "  from ._conv import register_converters as _register_converters\n",
      "Using TensorFlow backend.\n"
     ]
    }
   ],
   "source": [
    "import keras\n",
    "from keras.models import Sequential\n",
    "from keras.layers import Conv2D, MaxPooling2D\n",
    "from keras.layers import Dense, Dropout, Flatten, BatchNormalization"
   ]
  },
  {
   "cell_type": "code",
   "execution_count": 2,
   "metadata": {},
   "outputs": [],
   "source": [
    "from keras.datasets import cifar10\n",
    "(x_train, y_train), (x_test, y_test) = cifar10.load_data()\n",
    "x_train = x_train.astype('float32') / 255.\n",
    "x_test = x_test.astype('float32') / 255."
   ]
  },
  {
   "cell_type": "code",
   "execution_count": 3,
   "metadata": {},
   "outputs": [],
   "source": [
    "num_classes = 10\n",
    "y_train = keras.utils.to_categorical(y_train, num_classes)\n",
    "y_test = keras.utils.to_categorical(y_test, num_classes)"
   ]
  },
  {
   "cell_type": "code",
   "execution_count": 5,
   "metadata": {},
   "outputs": [
    {
     "name": "stdout",
     "output_type": "stream",
     "text": [
      "_________________________________________________________________\n",
      "Layer (type)                 Output Shape              Param #   \n",
      "=================================================================\n",
      "conv2d_1 (Conv2D)            (None, 32, 32, 64)        4864      \n",
      "_________________________________________________________________\n",
      "max_pooling2d_1 (MaxPooling2 (None, 16, 16, 64)        0         \n",
      "_________________________________________________________________\n",
      "conv2d_2 (Conv2D)            (None, 16, 16, 32)        51232     \n",
      "_________________________________________________________________\n",
      "max_pooling2d_2 (MaxPooling2 (None, 8, 8, 32)          0         \n",
      "_________________________________________________________________\n",
      "flatten_1 (Flatten)          (None, 2048)              0         \n",
      "_________________________________________________________________\n",
      "dense_1 (Dense)              (None, 32)                65568     \n",
      "_________________________________________________________________\n",
      "dense_2 (Dense)              (None, 10)                330       \n",
      "=================================================================\n",
      "Total params: 121,994\n",
      "Trainable params: 121,994\n",
      "Non-trainable params: 0\n",
      "_________________________________________________________________\n"
     ]
    }
   ],
   "source": [
    "model = Sequential()\n",
    "model.add(Conv2D(64, kernel_size=5, padding='same', activation='relu', input_shape=(32,32,3)))\n",
    "model.add(MaxPooling2D(pool_size=(2,2)))\n",
    "model.add(Conv2D(32, kernel_size=5, padding='same', activation='relu'))\n",
    "model.add(MaxPooling2D(pool_size=(2,2)))\n",
    "model.add(Flatten())\n",
    "model.add(Dense(32, activation='relu'))\n",
    "model.add(Dense(num_classes, activation='softmax'))\n",
    "model.summary()"
   ]
  },
  {
   "cell_type": "code",
   "execution_count": 6,
   "metadata": {},
   "outputs": [],
   "source": [
    "model.compile(loss='categorical_crossentropy', optimizer='adam', metrics=['accuracy'])"
   ]
  },
  {
   "cell_type": "code",
   "execution_count": 7,
   "metadata": {},
   "outputs": [],
   "source": [
    "from sklearn.model_selection import train_test_split\n",
    "x75, x25, y75, y25 = train_test_split(x_train, y_train, test_size=0.25, shuffle=True)"
   ]
  },
  {
   "cell_type": "code",
   "execution_count": 7,
   "metadata": {},
   "outputs": [
    {
     "name": "stdout",
     "output_type": "stream",
     "text": [
      "Train on 50000 samples, validate on 12500 samples\n",
      "Epoch 1/10\n",
      "50000/50000 [==============================] - 257s 5ms/step - loss: 1.6032 - acc: 0.4198 - val_loss: 1.3608 - val_acc: 0.5216\n",
      "Epoch 2/10\n",
      "50000/50000 [==============================] - 253s 5ms/step - loss: 1.2367 - acc: 0.5643 - val_loss: 1.1176 - val_acc: 0.6093\n",
      "Epoch 3/10\n",
      "50000/50000 [==============================] - 257s 5ms/step - loss: 1.0839 - acc: 0.6209 - val_loss: 0.9756 - val_acc: 0.6641\n",
      "Epoch 4/10\n",
      "50000/50000 [==============================] - 254s 5ms/step - loss: 0.9866 - acc: 0.6553 - val_loss: 0.9010 - val_acc: 0.6858\n",
      "Epoch 5/10\n",
      "50000/50000 [==============================] - 255s 5ms/step - loss: 0.9157 - acc: 0.6804 - val_loss: 0.8537 - val_acc: 0.7035\n",
      "Epoch 6/10\n",
      "50000/50000 [==============================] - 257s 5ms/step - loss: 0.8585 - acc: 0.7007 - val_loss: 0.7758 - val_acc: 0.7303\n",
      "Epoch 7/10\n",
      "50000/50000 [==============================] - 256s 5ms/step - loss: 0.8132 - acc: 0.7173 - val_loss: 0.7707 - val_acc: 0.7286\n",
      "Epoch 8/10\n",
      "50000/50000 [==============================] - 252s 5ms/step - loss: 0.7774 - acc: 0.7292 - val_loss: 0.7008 - val_acc: 0.7613\n",
      "Epoch 9/10\n",
      "50000/50000 [==============================] - 254s 5ms/step - loss: 0.7364 - acc: 0.7443 - val_loss: 0.6775 - val_acc: 0.7670\n",
      "Epoch 10/10\n",
      "50000/50000 [==============================] - 254s 5ms/step - loss: 0.7099 - acc: 0.7527 - val_loss: 0.6187 - val_acc: 0.7866\n"
     ]
    },
    {
     "data": {
      "text/plain": [
       "<keras.callbacks.History at 0x26301a05710>"
      ]
     },
     "execution_count": 7,
     "metadata": {},
     "output_type": "execute_result"
    }
   ],
   "source": [
    "batch_size = 64\n",
    "num_epochs = 10\n",
    "model.fit(x_train, y_train, batch_size=batch_size, epochs=num_epochs, verbose=1, validation_data=(x25, y25))"
   ]
  },
  {
   "cell_type": "code",
   "execution_count": 8,
   "metadata": {},
   "outputs": [
    {
     "name": "stdout",
     "output_type": "stream",
     "text": [
      "[0.8650083960533143, 0.706]\n"
     ]
    }
   ],
   "source": [
    "score = model.evaluate(x_test, y_test, verbose=0)\n",
    "print(score)"
   ]
  },
  {
   "cell_type": "code",
   "execution_count": 10,
   "metadata": {},
   "outputs": [
    {
     "data": {
      "image/png": "[encoded data removed]",
      "text/plain": [
       "<Figure size 1080x360 with 2 Axes>"
      ]
     },
     "metadata": {},
     "output_type": "display_data"
    }
   ],
   "source": [
    "import matplotlib.pyplot as plt\n",
    "plt.figure(figsize=(15, 5))\n",
    "\n",
    "plt.subplot(1, 2, 1)\n",
    "plt.plot(model.history.history['loss'], label='Training', linewidth=2)\n",
    "plt.plot(model.history.history['val_loss'], label='Validation', linewidth=2)\n",
    "plt.legend(fontsize=18)\n",
    "plt.title('Loss', fontsize=18)\n",
    "plt.xlabel('Epoch', fontsize=18)\n",
    "plt.ylabel('Loss', fontsize=18)\n",
    "plt.subplot(1, 2, 2)\n",
    "plt.plot(model.history.history['acc'], label='Training', linewidth=2)\n",
    "plt.plot(model.history.history['val_acc'], label='Validation', linewidth=2)\n",
    "plt.legend(fontsize=18)\n",
    "plt.title('Accuracy', fontsize=18)\n",
    "plt.xlabel('Epoch', fontsize=18)\n",
    "plt.ylabel('Loss', fontsize=18)\n",
    "plt.show()"
   ]
  },
  {
   "cell_type": "code",
   "execution_count": 8,
   "metadata": {},
   "outputs": [
    {
     "name": "stdout",
     "output_type": "stream",
     "text": [
      "Train on 50000 samples, validate on 12500 samples\n",
      "Epoch 1/10\n",
      "50000/50000 [==============================] - 329s 7ms/step - loss: 1.5516 - acc: 0.4296 - val_loss: 1.3560 - val_acc: 0.5139\n",
      "Epoch 2/10\n",
      "50000/50000 [==============================] - 318s 6ms/step - loss: 1.2094 - acc: 0.5709 - val_loss: 1.0957 - val_acc: 0.6170\n",
      "Epoch 3/10\n",
      "50000/50000 [==============================] - 309s 6ms/step - loss: 1.0953 - acc: 0.6159 - val_loss: 0.9769 - val_acc: 0.6599\n",
      "Epoch 4/10\n",
      "50000/50000 [==============================] - 299s 6ms/step - loss: 1.0279 - acc: 0.6409 - val_loss: 0.9126 - val_acc: 0.6810\n",
      "Epoch 5/10\n",
      "50000/50000 [==============================] - 309s 6ms/step - loss: 0.9740 - acc: 0.6612 - val_loss: 0.8851 - val_acc: 0.6908\n",
      "Epoch 6/10\n",
      "50000/50000 [==============================] - 293s 6ms/step - loss: 0.9330 - acc: 0.6765 - val_loss: 0.8493 - val_acc: 0.7067\n",
      "Epoch 7/10\n",
      "50000/50000 [==============================] - 298s 6ms/step - loss: 0.9024 - acc: 0.6860 - val_loss: 0.8300 - val_acc: 0.7072\n",
      "Epoch 8/10\n",
      "50000/50000 [==============================] - 341s 7ms/step - loss: 0.8690 - acc: 0.6992 - val_loss: 0.8162 - val_acc: 0.7127\n",
      "Epoch 9/10\n",
      "50000/50000 [==============================] - 304s 6ms/step - loss: 0.8435 - acc: 0.7061 - val_loss: 0.8028 - val_acc: 0.7167\n",
      "Epoch 10/10\n",
      "50000/50000 [==============================] - 343s 7ms/step - loss: 0.8161 - acc: 0.7157 - val_loss: 0.7879 - val_acc: 0.7269\n"
     ]
    },
    {
     "data": {
      "text/plain": [
       "<keras.callbacks.History at 0x1ca1df51eb8>"
      ]
     },
     "execution_count": 8,
     "metadata": {},
     "output_type": "execute_result"
    }
   ],
   "source": [
    "batch_size = 4\n",
    "num_epochs = 10\n",
    "model.fit(x_train, y_train, batch_size=batch_size, epochs=num_epochs, verbose=1, validation_data=(x25, y25))"
   ]
  },
  {
   "cell_type": "code",
   "execution_count": 9,
   "metadata": {},
   "outputs": [
    {
     "name": "stdout",
     "output_type": "stream",
     "text": [
      "Train on 50000 samples, validate on 12500 samples\n",
      "Epoch 1/10\n",
      "50000/50000 [==============================] - 264s 5ms/step - loss: 0.6731 - acc: 0.7649 - val_loss: 0.6387 - val_acc: 0.7787\n",
      "Epoch 2/10\n",
      "50000/50000 [==============================] - 269s 5ms/step - loss: 0.6651 - acc: 0.7659 - val_loss: 0.6252 - val_acc: 0.7802\n",
      "Epoch 3/10\n",
      "50000/50000 [==============================] - 256s 5ms/step - loss: 0.6483 - acc: 0.7713 - val_loss: 0.5946 - val_acc: 0.7894\n",
      "Epoch 4/10\n",
      "50000/50000 [==============================] - 256s 5ms/step - loss: 0.6284 - acc: 0.7801 - val_loss: 0.5956 - val_acc: 0.7905\n",
      "Epoch 5/10\n",
      "50000/50000 [==============================] - 262s 5ms/step - loss: 0.6138 - acc: 0.7836 - val_loss: 0.5868 - val_acc: 0.7885\n",
      "Epoch 6/10\n",
      "50000/50000 [==============================] - 257s 5ms/step - loss: 0.5978 - acc: 0.7920 - val_loss: 0.5451 - val_acc: 0.8081\n",
      "Epoch 7/10\n",
      "50000/50000 [==============================] - 263s 5ms/step - loss: 0.5892 - acc: 0.7938 - val_loss: 0.5391 - val_acc: 0.8142\n",
      "Epoch 8/10\n",
      "50000/50000 [==============================] - 260s 5ms/step - loss: 0.5764 - acc: 0.7981 - val_loss: 0.5438 - val_acc: 0.8103\n",
      "Epoch 9/10\n",
      "50000/50000 [==============================] - 256s 5ms/step - loss: 0.5672 - acc: 0.8014 - val_loss: 0.5208 - val_acc: 0.8183\n",
      "Epoch 10/10\n",
      "50000/50000 [==============================] - 257s 5ms/step - loss: 0.5542 - acc: 0.8060 - val_loss: 0.5260 - val_acc: 0.8178\n"
     ]
    },
    {
     "data": {
      "text/plain": [
       "<keras.callbacks.History at 0x1ca1c4e5d68>"
      ]
     },
     "execution_count": 9,
     "metadata": {},
     "output_type": "execute_result"
    }
   ],
   "source": [
    "batch_size = 16\n",
    "num_epochs = 10\n",
    "model.fit(x_train, y_train, batch_size=batch_size, epochs=num_epochs, verbose=1, validation_data=(x25, y25))"
   ]
  },
  {
   "cell_type": "code",
   "execution_count": 10,
   "metadata": {},
   "outputs": [
    {
     "name": "stdout",
     "output_type": "stream",
     "text": [
      "Train on 50000 samples, validate on 12500 samples\n",
      "Epoch 1/10\n",
      "50000/50000 [==============================] - 257s 5ms/step - loss: 0.4515 - acc: 0.8456 - val_loss: 0.4285 - val_acc: 0.8524\n",
      "Epoch 2/10\n",
      "50000/50000 [==============================] - 270s 5ms/step - loss: 0.4356 - acc: 0.8527 - val_loss: 0.4209 - val_acc: 0.8550\n",
      "Epoch 3/10\n",
      "50000/50000 [==============================] - 299s 6ms/step - loss: 0.4300 - acc: 0.8549 - val_loss: 0.4178 - val_acc: 0.8568\n",
      "Epoch 4/10\n",
      "50000/50000 [==============================] - 267s 5ms/step - loss: 0.4266 - acc: 0.8558 - val_loss: 0.4079 - val_acc: 0.8603\n",
      "Epoch 5/10\n",
      "50000/50000 [==============================] - 282s 6ms/step - loss: 0.4240 - acc: 0.8561 - val_loss: 0.4020 - val_acc: 0.8617\n",
      "Epoch 6/10\n",
      "50000/50000 [==============================] - 309s 6ms/step - loss: 0.4213 - acc: 0.8575 - val_loss: 0.4017 - val_acc: 0.8630\n",
      "Epoch 7/10\n",
      "50000/50000 [==============================] - 262s 5ms/step - loss: 0.4200 - acc: 0.8564 - val_loss: 0.4054 - val_acc: 0.8603\n",
      "Epoch 8/10\n",
      "50000/50000 [==============================] - 262s 5ms/step - loss: 0.4165 - acc: 0.8575 - val_loss: 0.3891 - val_acc: 0.8672\n",
      "Epoch 9/10\n",
      "50000/50000 [==============================] - 255s 5ms/step - loss: 0.4128 - acc: 0.8590 - val_loss: 0.3882 - val_acc: 0.8683\n",
      "Epoch 10/10\n",
      "50000/50000 [==============================] - 254s 5ms/step - loss: 0.4104 - acc: 0.8608 - val_loss: 0.3816 - val_acc: 0.8733\n"
     ]
    },
    {
     "data": {
      "text/plain": [
       "<keras.callbacks.History at 0x1ca279932b0>"
      ]
     },
     "execution_count": 10,
     "metadata": {},
     "output_type": "execute_result"
    }
   ],
   "source": [
    "batch_size = 128\n",
    "num_epochs = 10\n",
    "model.fit(x_train, y_train, batch_size=batch_size, epochs=num_epochs, verbose=1, validation_data=(x25, y25))"
   ]
  },
  {
   "cell_type": "code",
   "execution_count": 11,
   "metadata": {},
   "outputs": [
    {
     "name": "stdout",
     "output_type": "stream",
     "text": [
      "Train on 50000 samples, validate on 12500 samples\n",
      "Epoch 1/10\n",
      "50000/50000 [==============================] - 254s 5ms/step - loss: 0.3827 - acc: 0.8724 - val_loss: 0.3646 - val_acc: 0.8769\n",
      "Epoch 2/10\n",
      "50000/50000 [==============================] - 251s 5ms/step - loss: 0.3766 - acc: 0.8749 - val_loss: 0.3609 - val_acc: 0.8808\n",
      "Epoch 3/10\n",
      "50000/50000 [==============================] - 260s 5ms/step - loss: 0.3742 - acc: 0.8752 - val_loss: 0.3598 - val_acc: 0.8794\n",
      "Epoch 4/10\n",
      "50000/50000 [==============================] - 285s 6ms/step - loss: 0.3734 - acc: 0.8757 - val_loss: 0.3556 - val_acc: 0.8830\n",
      "Epoch 5/10\n",
      "50000/50000 [==============================] - 289s 6ms/step - loss: 0.3683 - acc: 0.8771 - val_loss: 0.3496 - val_acc: 0.8844\n",
      "Epoch 6/10\n",
      "50000/50000 [==============================] - 309s 6ms/step - loss: 0.3657 - acc: 0.8799 - val_loss: 0.3484 - val_acc: 0.8850\n",
      "Epoch 7/10\n",
      "50000/50000 [==============================] - 303s 6ms/step - loss: 0.3646 - acc: 0.8787 - val_loss: 0.3464 - val_acc: 0.8876\n",
      "Epoch 8/10\n",
      "50000/50000 [==============================] - 278s 6ms/step - loss: 0.3609 - acc: 0.8798 - val_loss: 0.3399 - val_acc: 0.8900\n",
      "Epoch 9/10\n",
      "50000/50000 [==============================] - 264s 5ms/step - loss: 0.3580 - acc: 0.8811 - val_loss: 0.3444 - val_acc: 0.8852\n",
      "Epoch 10/10\n",
      "50000/50000 [==============================] - 263s 5ms/step - loss: 0.3570 - acc: 0.8801 - val_loss: 0.3334 - val_acc: 0.8930\n"
     ]
    },
    {
     "data": {
      "text/plain": [
       "<keras.callbacks.History at 0x1ca27990cf8>"
      ]
     },
     "execution_count": 11,
     "metadata": {},
     "output_type": "execute_result"
    }
   ],
   "source": [
    "batch_size = 256\n",
    "num_epochs = 10\n",
    "model.fit(x_train, y_train, batch_size=batch_size, epochs=num_epochs, verbose=1, validation_data=(x25, y25))"
   ]
  },
  {
   "cell_type": "code",
   "execution_count": 4,
   "metadata": {},
   "outputs": [
    {
     "name": "stdout",
     "output_type": "stream",
     "text": [
      "_________________________________________________________________\n",
      "Layer (type)                 Output Shape              Param #   \n",
      "=================================================================\n",
      "conv2d_1 (Conv2D)            (None, 32, 32, 128)       9728      \n",
      "_________________________________________________________________\n",
      "max_pooling2d_1 (MaxPooling2 (None, 16, 16, 128)       0         \n",
      "_________________________________________________________________\n",
      "conv2d_2 (Conv2D)            (None, 16, 16, 64)        204864    \n",
      "_________________________________________________________________\n",
      "max_pooling2d_2 (MaxPooling2 (None, 8, 8, 64)          0         \n",
      "_________________________________________________________________\n",
      "flatten_1 (Flatten)          (None, 4096)              0         \n",
      "_________________________________________________________________\n",
      "dense_1 (Dense)              (None, 32)                131104    \n",
      "_________________________________________________________________\n",
      "dense_2 (Dense)              (None, 10)                330       \n",
      "=================================================================\n",
      "Total params: 346,026\n",
      "Trainable params: 346,026\n",
      "Non-trainable params: 0\n",
      "_________________________________________________________________\n",
      "Train on 50000 samples, validate on 12500 samples\n",
      "Epoch 1/10\n",
      "50000/50000 [==============================] - 605s 12ms/step - loss: 1.7804 - acc: 0.3518 - val_loss: 1.5322 - val_acc: 0.4654\n",
      "Epoch 2/10\n",
      "50000/50000 [==============================] - 609s 12ms/step - loss: 1.3652 - acc: 0.5144 - val_loss: 1.2193 - val_acc: 0.5750\n",
      "Epoch 3/10\n",
      "50000/50000 [==============================] - 645s 13ms/step - loss: 1.1923 - acc: 0.5791 - val_loss: 1.1052 - val_acc: 0.6174\n",
      "Epoch 4/10\n",
      "50000/50000 [==============================] - 587s 12ms/step - loss: 1.0806 - acc: 0.6210 - val_loss: 1.0647 - val_acc: 0.6274\n",
      "Epoch 5/10\n",
      "50000/50000 [==============================] - 584s 12ms/step - loss: 0.9899 - acc: 0.6539 - val_loss: 0.9863 - val_acc: 0.6639\n",
      "Epoch 6/10\n",
      "50000/50000 [==============================] - 583s 12ms/step - loss: 0.9270 - acc: 0.6745 - val_loss: 0.8900 - val_acc: 0.6925\n",
      "Epoch 7/10\n",
      "50000/50000 [==============================] - 584s 12ms/step - loss: 0.8736 - acc: 0.6945 - val_loss: 0.8704 - val_acc: 0.6973\n",
      "Epoch 8/10\n",
      "50000/50000 [==============================] - 582s 12ms/step - loss: 0.8189 - acc: 0.7143 - val_loss: 0.7768 - val_acc: 0.7310\n",
      "Epoch 9/10\n",
      "50000/50000 [==============================] - 588s 12ms/step - loss: 0.7775 - acc: 0.7298 - val_loss: 0.7459 - val_acc: 0.7454\n",
      "Epoch 10/10\n",
      "50000/50000 [==============================] - 585s 12ms/step - loss: 0.7409 - acc: 0.7423 - val_loss: 0.6914 - val_acc: 0.7609\n"
     ]
    },
    {
     "data": {
      "text/plain": [
       "<keras.callbacks.History at 0x234c767af28>"
      ]
     },
     "execution_count": 4,
     "metadata": {},
     "output_type": "execute_result"
    }
   ],
   "source": [
    "model = Sequential()\n",
    "model.add(Conv2D(128, kernel_size=5, padding='same', activation='relu', input_shape=(32,32,3)))\n",
    "model.add(MaxPooling2D(pool_size=(2,2)))\n",
    "model.add(Conv2D(64, kernel_size=5, padding='same', activation='relu'))\n",
    "model.add(MaxPooling2D(pool_size=(2,2)))\n",
    "model.add(Flatten())\n",
    "model.add(Dense(32, activation='relu'))\n",
    "model.add(Dense(num_classes, activation='softmax'))\n",
    "model.summary()\n",
    "\n",
    "model.compile(loss='categorical_crossentropy', optimizer='adam', metrics=['accuracy'])\n",
    "\n",
    "from sklearn.model_selection import train_test_split\n",
    "x75, x25, y75, y25 = train_test_split(x_train, y_train, test_size=0.25, shuffle=True)\n",
    "\n",
    "batch_size = 256\n",
    "num_epochs = 10\n",
    "model.fit(x_train, y_train, batch_size=batch_size, epochs=num_epochs, verbose=1, validation_data=(x25, y25))"
   ]
  },
  {
   "cell_type": "code",
   "execution_count": 4,
   "metadata": {},
   "outputs": [
    {
     "name": "stdout",
     "output_type": "stream",
     "text": [
      "_________________________________________________________________\n",
      "Layer (type)                 Output Shape              Param #   \n",
      "=================================================================\n",
      "conv2d_1 (Conv2D)            (None, 32, 32, 64)        4864      \n",
      "_________________________________________________________________\n",
      "conv2d_2 (Conv2D)            (None, 32, 32, 64)        102464    \n",
      "_________________________________________________________________\n",
      "max_pooling2d_1 (MaxPooling2 (None, 16, 16, 64)        0         \n",
      "_________________________________________________________________\n",
      "conv2d_3 (Conv2D)            (None, 16, 16, 32)        51232     \n",
      "_________________________________________________________________\n",
      "conv2d_4 (Conv2D)            (None, 16, 16, 32)        25632     \n",
      "_________________________________________________________________\n",
      "max_pooling2d_2 (MaxPooling2 (None, 8, 8, 32)          0         \n",
      "_________________________________________________________________\n",
      "flatten_1 (Flatten)          (None, 2048)              0         \n",
      "_________________________________________________________________\n",
      "dense_1 (Dense)              (None, 32)                65568     \n",
      "_________________________________________________________________\n",
      "dense_2 (Dense)              (None, 10)                330       \n",
      "=================================================================\n",
      "Total params: 250,090\n",
      "Trainable params: 250,090\n",
      "Non-trainable params: 0\n",
      "_________________________________________________________________\n",
      "Train on 50000 samples, validate on 12500 samples\n",
      "Epoch 1/10\n",
      "50000/50000 [==============================] - 1184s 24ms/step - loss: 1.7155 - acc: 0.3781 - val_loss: 1.4203 - val_acc: 0.4835\n",
      "Epoch 2/10\n",
      "50000/50000 [==============================] - 1183s 24ms/step - loss: 1.2826 - acc: 0.5452 - val_loss: 1.2007 - val_acc: 0.5714\n",
      "Epoch 3/10\n",
      "50000/50000 [==============================] - 1175s 23ms/step - loss: 1.0841 - acc: 0.6180 - val_loss: 0.9979 - val_acc: 0.6534\n",
      "Epoch 4/10\n",
      "50000/50000 [==============================] - 1295s 26ms/step - loss: 0.9465 - acc: 0.6682 - val_loss: 0.9386 - val_acc: 0.6702\n",
      "Epoch 5/10\n",
      "50000/50000 [==============================] - 1246s 25ms/step - loss: 0.8417 - acc: 0.7084 - val_loss: 0.7795 - val_acc: 0.7268\n",
      "Epoch 6/10\n",
      "50000/50000 [==============================] - 1185s 24ms/step - loss: 0.7728 - acc: 0.7305 - val_loss: 0.7001 - val_acc: 0.7567\n",
      "Epoch 7/10\n",
      "50000/50000 [==============================] - 1187s 24ms/step - loss: 0.7101 - acc: 0.7516 - val_loss: 0.6516 - val_acc: 0.7740\n",
      "Epoch 8/10\n",
      "50000/50000 [==============================] - 1191s 24ms/step - loss: 0.6600 - acc: 0.7712 - val_loss: 0.5955 - val_acc: 0.7934\n",
      "Epoch 9/10\n",
      "50000/50000 [==============================] - 1187s 24ms/step - loss: 0.6142 - acc: 0.7835 - val_loss: 0.5561 - val_acc: 0.8092\n",
      "Epoch 10/10\n",
      "50000/50000 [==============================] - 1186s 24ms/step - loss: 0.5681 - acc: 0.8013 - val_loss: 0.5622 - val_acc: 0.8050\n"
     ]
    },
    {
     "data": {
      "text/plain": [
       "<keras.callbacks.History at 0x1b401295eb8>"
      ]
     },
     "execution_count": 4,
     "metadata": {},
     "output_type": "execute_result"
    }
   ],
   "source": [
    "model = Sequential()\n",
    "model.add(Conv2D(64, kernel_size=5, padding='same', activation='relu', input_shape=(32,32,3)))\n",
    "model.add(Conv2D(64, kernel_size=5, padding='same', activation='relu', input_shape=(32,32,3)))\n",
    "model.add(MaxPooling2D(pool_size=(2,2)))\n",
    "model.add(Conv2D(32, kernel_size=5, padding='same', activation='relu'))\n",
    "model.add(Conv2D(32, kernel_size=5, padding='same', activation='relu'))\n",
    "model.add(MaxPooling2D(pool_size=(2,2)))\n",
    "model.add(Flatten())\n",
    "model.add(Dense(32, activation='relu'))\n",
    "model.add(Dense(num_classes, activation='softmax'))\n",
    "model.summary()\n",
    "\n",
    "model.compile(loss='categorical_crossentropy', optimizer='adam', metrics=['accuracy'])\n",
    "\n",
    "from sklearn.model_selection import train_test_split\n",
    "x75, x25, y75, y25 = train_test_split(x_train, y_train, test_size=0.25, shuffle=True)\n",
    "\n",
    "batch_size = 256\n",
    "num_epochs = 10\n",
    "model.fit(x_train, y_train, batch_size=batch_size, epochs=num_epochs, verbose=1, validation_data=(x25, y25))"
   ]
  },
  {
   "cell_type": "markdown",
   "metadata": {},
   "source": [
    "Mi mejor modelo"
   ]
  },
  {
   "cell_type": "code",
   "execution_count": null,
   "metadata": {},
   "outputs": [],
   "source": [
    "model = Sequential()\n",
    "model.add(Conv2D(64, kernel_size=5, padding='same', activation='relu', input_shape=(32,32,3)))\n",
    "model.add(MaxPooling2D(pool_size=(2,2)))\n",
    "model.add(Conv2D(32, kernel_size=5, padding='same', activation='relu'))\n",
    "model.add(MaxPooling2D(pool_size=(2,2)))\n",
    "model.add(Flatten())\n",
    "model.add(Dense(32, activation='relu'))\n",
    "model.add(Dense(num_classes, activation='softmax'))\n",
    "model.summary()\n",
    "\n",
    "model.compile(loss='categorical_crossentropy', optimizer='adam', metrics=['accuracy'])\n",
    "\n",
    "from sklearn.model_selection import train_test_split\n",
    "x75, x25, y75, y25 = train_test_split(x_train, y_train, test_size=0.25, shuffle=True)\n",
    "\n",
    "batch_size = 256\n",
    "num_epochs = 10\n",
    "model.fit(x_train, y_train, batch_size=batch_size, epochs=num_epochs, verbose=1, validation_data=(x25, y25))"
   ]
  },
  {
   "cell_type": "code",
   "execution_count": null,
   "metadata": {},
   "outputs": [],
   "source": [
    "score = model.evaluate(x_test, y_test, verbose=0)\n",
    "print(score)"
   ]
  },
  {
   "cell_type": "code",
   "execution_count": null,
   "metadata": {},
   "outputs": [],
   "source": [
    "import matplotlib.pyplot as plt\n",
    "plt.figure(figsize=(15, 5))\n",
    "\n",
    "plt.subplot(1, 2, 1)\n",
    "plt.plot(model.history.history['loss'], label='Training', linewidth=2)\n",
    "plt.plot(model.history.history['val_loss'], label='Validation', linewidth=2)\n",
    "plt.legend(fontsize=18)\n",
    "plt.title('Loss', fontsize=18)\n",
    "plt.xlabel('Epoch', fontsize=18)\n",
    "plt.ylabel('Loss', fontsize=18)\n",
    "plt.subplot(1, 2, 2)\n",
    "plt.plot(model.history.history['acc'], label='Training', linewidth=2)\n",
    "plt.plot(model.history.history['val_acc'], label='Validation', linewidth=2)\n",
    "plt.legend(fontsize=18)\n",
    "plt.title('Accuracy', fontsize=18)\n",
    "plt.xlabel('Epoch', fontsize=18)\n",
    "plt.ylabel('Loss', fontsize=18)\n",
    "plt.show()"
   ]
  },
  {
   "cell_type": "code",
   "execution_count": null,
   "metadata": {},
   "outputs": [],
   "source": [
    "import numpy as np\n",
    "# Predict classes for test set\n",
    "y_test_pred = model.predict(x_test).round()\n",
    "y_test_pred = np.argmax(y_test_pred, axis=1)\n",
    "y_test = np.argmax(y_test, axis=1)"
   ]
  },
  {
   "cell_type": "code",
   "execution_count": null,
   "metadata": {},
   "outputs": [],
   "source": [
    "from sklearn.metrics import confusion_matrix\n",
    "Conf_Mat = confusion_matrix(y_test, y_test_pred)\n",
    "plt.figure(figsize=(6, 6))\n",
    "plt.imshow(Conf_Mat, cmap='jet')\n",
    "plt.grid()\n",
    "plt.colorbar()\n",
    "plt.show()"
   ]
  }
 ],
 "metadata": {
  "kernelspec": {
   "display_name": "Python 3",
   "language": "python",
   "name": "python3"
  },
  "language_info": {
   "codemirror_mode": {
    "name": "ipython",
    "version": 3
   },
   "file_extension": ".py",
   "mimetype": "text/x-python",
   "name": "python",
   "nbconvert_exporter": "python",
   "pygments_lexer": "ipython3",
   "version": "3.6.5"
  }
 },
 "nbformat": 4,
 "nbformat_minor": 2
}
